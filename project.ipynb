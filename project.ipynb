{
 "cells": [
  {
   "cell_type": "markdown",
   "metadata": {
    "deletable": false,
    "editable": false,
    "nbgrader": {
     "cell_type": "markdown",
     "checksum": "f0dd7cbad727dec0308b03071cff6d79",
     "grade": false,
     "grade_id": "cell-8092c3fd452a3245",
     "locked": true,
     "schema_version": 3,
     "solution": false
    }
   },
   "source": [
    "# Brain Tumor  Semantic Highlighting"
   ]
  },
  {
   "cell_type": "markdown",
   "metadata": {
    "deletable": false,
    "editable": false,
    "nbgrader": {
     "cell_type": "markdown",
     "checksum": "b2a67fd370f068f246ff87c02ded0a23",
     "grade": false,
     "grade_id": "cell-3ee6d24346a80d85",
     "locked": true,
     "schema_version": 3,
     "solution": false
    }
   },
   "source": [
    "---\n",
    "## Imports\n",
    "\n",
    "Imports all packages used in this project."
   ]
  },
  {
   "cell_type": "code",
   "execution_count": 54,
   "metadata": {
    "deletable": false,
    "nbgrader": {
     "cell_type": "code",
     "checksum": "a4a678e0ee4be501dade9c48f35fe0b2",
     "grade": true,
     "grade_id": "cell-464a08ede00083a4",
     "locked": false,
     "points": 0,
     "schema_version": 3,
     "solution": true
    }
   },
   "outputs": [],
   "source": [
    "import torch\n",
    "import os\n",
    "from pathlib import Path\n",
    "import torchvision.transforms as transforms \n",
    "from torchvision.transforms import ToTensor\n",
    "import matplotlib.pyplot as plt\n",
    "from torch import nn\n",
    "from torchvision.transforms import v2\n",
    "import pandas as pd\n",
    "from itertools import chain\n",
    "from PIL import Image\n",
    "from torch.utils.data import Dataset\n",
    "import torch.nn.functional as F\n",
    "import h5py\n",
    "import numpy as np\n",
    "from matplotlib.colors import ListedColormap\n",
    "import re, random\n",
    "from collections import defaultdict\n",
    "from typing import Callable, Optional, Sequence, Dict, Any, List, Tuple\n",
    "import albumentations as A\n",
    "from albumentations.pytorch import ToTensorV2\n",
    "from torch.utils.data import DataLoader"
   ]
  },
  {
   "cell_type": "markdown",
   "metadata": {
    "deletable": false,
    "editable": false,
    "nbgrader": {
     "cell_type": "markdown",
     "checksum": "54010effebd0a025505ab189ffff6d6c",
     "grade": false,
     "grade_id": "cell-4821dc273028d702",
     "locked": true,
     "schema_version": 3,
     "solution": false
    }
   },
   "source": [
    "---\n",
    "## 1. Loading the data and preprocessing"
   ]
  },
  {
   "cell_type": "markdown",
   "metadata": {},
   "source": [
    "Visually inspect images:"
   ]
  },
  {
   "cell_type": "code",
   "execution_count": 42,
   "metadata": {},
   "outputs": [],
   "source": [
    "def _robust_norm(x, p_lo=0.5, p_hi=99.5):\n",
    "    \"\"\"Perform robust normalization using percentile clipping.\"\"\"\n",
    "    lo, hi = np.percentile(x, [p_lo, p_hi])\n",
    "    x = np.clip(x, lo, hi)\n",
    "    if hi > lo:\n",
    "        x = (x - lo) / (hi - lo)\n",
    "    else:\n",
    "        x = np.zeros_like(x)\n",
    "    return x\n",
    "\n",
    "def _as_onehot3(mask):\n",
    "    \"\"\"\n",
    "    Convert a (H, W) integer mask into a 3-channel one-hot mask (H, W, 3).\n",
    "    Expected label values:\n",
    "        1: Necrosis / Non-enhancing tumor\n",
    "        2: Edema\n",
    "        4: Enhancing tumor\n",
    "    If none of these labels are present, returns all-zeros.\n",
    "    \"\"\"\n",
    "    if mask.ndim == 3 and mask.shape[-1] == 3:\n",
    "        return mask.astype(np.float32)\n",
    "    oh = np.zeros(mask.shape + (3,), dtype=np.float32)\n",
    "    oh[..., 0] = (mask == 1).astype(np.float32)\n",
    "    oh[..., 1] = (mask == 2).astype(np.float32)\n",
    "    oh[..., 2] = (mask == 4).astype(np.float32)\n",
    "    return oh\n",
    "\n",
    "def overlay_replace_on_flair(\n",
    "    image,                       # (H,W,4) float\n",
    "    mask,                        # (H,W,3) one-hot/prob OR (H,W) labels\n",
    "    flair_idx=3,                 # index of FLAIR channel\n",
    "    mask_colors=((1,0,0),(1,1,0),(0,1,0)),   # R/G/B for [Necrosis, Edema, Enhancing]\n",
    "    thresh=0.5,                  # binarization threshold for prob masks\n",
    "    conflict_mode=\"priority\",    # \"priority\" or \"argmax\"\n",
    "    alpha=None,                  # None to hard replace; float in (0,1) for alpha blend\n",
    "    priority=(2,1,0),            # only used when conflict_mode=\"priority\" (index in [0,1,2])\n",
    "    show=True\n",
    "):\n",
    "    \"\"\"\n",
    "    Convert FLAIR to RGB and replace pixels under mask with class colors.\n",
    "    If alpha is not None, do per-pixel blending instead of hard replacement.\n",
    "    \"\"\"\n",
    "    H, W, C = image.shape\n",
    "    assert C > flair_idx, \"flair_idx out of range\"\n",
    "    base = _robust_norm(image[..., flair_idx])               # (H,W) in [0,1]\n",
    "    base_rgb = np.repeat(base[..., None], 3, axis=2)        # (H,W,3)\n",
    "\n",
    "    m = _as_onehot3(mask)                                    # (H,W,3)\n",
    "    # binarize to avoid interpolation leakage\n",
    "    m_bin = (m > thresh).astype(np.uint8)                   # (H,W,3)\n",
    "\n",
    "    if conflict_mode == \"argmax\":\n",
    "        # choose the channel with highest prob; mask out background\n",
    "        cls_idx = np.argmax(m, axis=-1)                     # (H,W)\n",
    "        fg = (m.max(axis=-1) > thresh)                      # (H,W) boolean\n",
    "        # build a 3D boolean index per class\n",
    "        for i, color in enumerate(mask_colors):\n",
    "            sel = (cls_idx == i) & fg\n",
    "            if np.any(sel):\n",
    "                if alpha is None:\n",
    "                    base_rgb[sel, :] = color\n",
    "                else:\n",
    "                    base_rgb[sel, :] = (1 - alpha) * base_rgb[sel, :] + alpha * np.array(color)\n",
    "    elif conflict_mode == \"priority\":\n",
    "        # apply in given order; later classes overwrite earlier ones\n",
    "        for i in priority:\n",
    "            sel = m_bin[..., i].astype(bool)\n",
    "            if np.any(sel):\n",
    "                if alpha is None:\n",
    "                    base_rgb[sel, :] = mask_colors[i]\n",
    "                else:\n",
    "                    base_rgb[sel, :] = (1 - alpha) * base_rgb[sel, :] + alpha * np.array(mask_colors[i])\n",
    "    else:\n",
    "        raise ValueError(\"conflict_mode must be 'priority' or 'argmax'\")\n",
    "\n",
    "    if show:\n",
    "        plt.figure(figsize=(6,6))\n",
    "        plt.imshow(base_rgb, interpolation=\"nearest\")\n",
    "        plt.title(\"Mask replaced on FLAIR (RGB)\")\n",
    "        plt.axis(\"off\")\n",
    "        plt.show()\n",
    "\n",
    "    return base_rgb\n",
    "\n",
    "def display_image(\n",
    "    file_path: str,\n",
    "    modality_names=(\"T1\",\"T1Gd\",\"T2\",\"FLAIR\"),\n",
    "    mask_names=(\"Necrosis\",\"Edema\",\"Enhancing\"),\n",
    "    overlay_modality: str | None = \"FLAIR\",\n",
    "    overlay_alpha: float = 0.35,\n",
    "    show_contour: bool = True,\n",
    "    # per-channel colors (RGB tuples or hex). Order must match mask_names / channels\n",
    "    mask_colors=((0.0, 1.0, 0.0),  # Necrosis -> green\n",
    "                 (1.0, 0.0, 1.0),  # Edema    -> magenta\n",
    "                 (1.0, 0.0, 0.0)), # Enhancing-> red\n",
    "):\n",
    "    \"\"\"\n",
    "    Visualize a single .h5 BraTS slice file containing:\n",
    "        - image: (H, W, 4) multimodal MRI data\n",
    "        - mask : (H, W, 3) or (H, W) segmentation mask\n",
    "\n",
    "    Parameters\n",
    "    ----------\n",
    "    file_path : str\n",
    "        Path to the .h5 file.\n",
    "    modality_names : tuple of str\n",
    "        Names of the 4 MRI modalities, in order.\n",
    "    mask_names : tuple of str\n",
    "        Names of the 3 segmentation channels.\n",
    "    overlay_modality : str | None\n",
    "        Which modality to overlay the mask on (default: \"FLAIR\").\n",
    "        Set to None to disable overlay.\n",
    "    overlay_alpha : float\n",
    "        Transparency for mask overlay (0–1).\n",
    "    show_contour : bool\n",
    "        If True, draw contour lines around mask regions.\n",
    "    \"\"\"\n",
    "    # --- Load data ---\n",
    "    with h5py.File(file_path, \"r\") as f:\n",
    "        image = f[\"image\"][:]  # (H, W, 4)\n",
    "        mask  = f[\"mask\"][:]   # (H, W, 3) or (H, W)\n",
    "        # print the shape\n",
    "        print(f\"Image shape: {image.shape}, Mask shape: {mask.shape}\")\n",
    "\n",
    "    # --- Convert mask safely to one-hot format ---\n",
    "    if mask.ndim == 2 or (mask.ndim == 3 and mask.shape[-1] == 1):\n",
    "        mask = _as_onehot3(mask.squeeze())\n",
    "    elif mask.ndim == 3 and mask.shape[-1] == 3:\n",
    "        mask = mask.astype(np.float32)\n",
    "    else:\n",
    "        raise ValueError(f\"Unexpected mask shape: {mask.shape}, expected (H,W,3) or (H,W).\")\n",
    "\n",
    "    # --- Display each modality ---\n",
    "    H, W, C = image.shape\n",
    "    if C != 4:\n",
    "        raise ValueError(f\"Expected 4 channels, got {image.shape}\")\n",
    "\n",
    "    for i in range(4):\n",
    "        plt.figure(figsize=(4.5, 4.5))\n",
    "        plt.imshow(_robust_norm(image[..., i]), cmap=\"gray\")\n",
    "        plt.title(modality_names[i] if i < len(modality_names) else f\"Modality {i}\")\n",
    "        plt.axis(\"off\")\n",
    "        plt.show()\n",
    "    \n",
    "    '''\n",
    "    # --- Display each mask channel with its own color ---\n",
    "    for i in range(3):\n",
    "        m = mask[..., i]\n",
    "        plt.figure(figsize=(4.5, 4.5))\n",
    "        # build a 2-color discrete cmap: background transparent-ish, foreground = mask_colors[i]\n",
    "        fg = mask_colors[i]\n",
    "        cmap = ListedColormap([(0,0,0,0), (*fg, 1.0)])  # RGBA\n",
    "        plt.imshow(m, cmap=cmap, interpolation=\"nearest\")\n",
    "        plt.title(mask_names[i] if i < len(mask_names) else f\"Mask {i}\")\n",
    "        plt.axis(\"off\")\n",
    "        plt.show()\n",
    "    '''\n",
    "\n",
    "    # --- Overlay each mask channel using its dedicated color ---\n",
    "    rgb = overlay_replace_on_flair(\n",
    "        image, mask,\n",
    "        flair_idx=3,\n",
    "        mask_colors=mask_colors,\n",
    "        thresh=0.5,\n",
    "        conflict_mode=\"priority\",               # or \"argmax\"\n",
    "        alpha=None,                             # None=hard replace；0.35=blend\n",
    "        priority=(2,1,0)                        # Enhancing > Edema > Necrosis\n",
    "    )\n",
    "        \n",
    "    '''\n",
    "    # Optional: combined label map (0=bg, 1/2/3 = channels)\n",
    "    combined = np.zeros(mask.shape[:2], dtype=int)\n",
    "    for i in range(3):\n",
    "        combined[mask[..., i] > 0.5] = i + 1\n",
    "\n",
    "    combo_cmap = ListedColormap([\n",
    "        (0,0,0,0),                    # 0 background transparent\n",
    "        (*mask_colors[0], 1.0),       # 1\n",
    "        (*mask_colors[1], 1.0),       # 2\n",
    "        (*mask_colors[2], 1.0),       # 3\n",
    "    ])\n",
    "    plt.figure(figsize=(5,5))\n",
    "    plt.imshow(combined, cmap=combo_cmap, interpolation=\"nearest\")\n",
    "    plt.title(\"Combined Mask\")\n",
    "    plt.axis(\"off\")\n",
    "    plt.show()\n",
    "    '''"
   ]
  },
  {
   "cell_type": "code",
   "execution_count": 43,
   "metadata": {},
   "outputs": [
    {
     "name": "stdout",
     "output_type": "stream",
     "text": [
      "Image shape: (240, 240, 4), Mask shape: (240, 240, 3)\n"
     ]
    },
    {
     "data": {
      "image/png": "[encoded data removed]",
      "text/plain": [
       "<Figure size 450x450 with 1 Axes>"
      ]
     },
     "metadata": {},
     "output_type": "display_data"
    },
    {
     "data": {
      "image/png": "[encoded data removed]",
      "text/plain": [
       "<Figure size 450x450 with 1 Axes>"
      ]
     },
     "metadata": {},
     "output_type": "display_data"
    },
    {
     "data": {
      "image/png": "[encoded data removed]",
      "text/plain": [
       "<Figure size 450x450 with 1 Axes>"
      ]
     },
     "metadata": {},
     "output_type": "display_data"
    },
    {
     "data": {
      "image/png": "[encoded data removed]",
      "text/plain": [
       "<Figure size 450x450 with 1 Axes>"
      ]
     },
     "metadata": {},
     "output_type": "display_data"
    },
    {
     "data": {
      "image/png": "[encoded data removed]",
      "text/plain": [
       "<Figure size 600x600 with 1 Axes>"
      ]
     },
     "metadata": {},
     "output_type": "display_data"
    }
   ],
   "source": [
    "image_path = \"./brats2020-training-data/BraTS2020_training_data/content/data/volume_41_slice_35.h5\"\n",
    "display_image(\n",
    "    image_path,\n",
    "    modality_names=(\"T1\", \"T1Gd\", \"T2\", \"FLAIR\"),\n",
    "    mask_names=(\"Necrosis-1\", \"Edema-2\", \"Enhancing-4\"),\n",
    "    overlay_modality=\"FLAIR\",\n",
    "    overlay_alpha=0.35,\n",
    "    show_contour=True\n",
    ")\n"
   ]
  },
  {
   "cell_type": "code",
   "execution_count": null,
   "metadata": {},
   "outputs": [],
   "source": [
    "\n",
    "import random\n",
    "from typing import List, Tuple, Optional, Sequence\n",
    "\n",
    "def group_by_volume(root: Path) -> Dict[int, List[Path]]:\n",
    "    groups = defaultdict(list)\n",
    "    for p in root.glob(\"*.h5\"):\n",
    "        # m = H5_RE.match(p.name)\n",
    "        m = H5_RE.fullmatch(p.name)\n",
    "        if m:\n",
    "            vid = int(m.group(1))\n",
    "            groups[vid].append(p)\n",
    "    return {k: sorted(v) for k, v in sorted(groups.items())}\n",
    "\n",
    "\n",
    "def _largest_remainder_counts(n: int, shares: Sequence[float]) -> List[int]:\n",
    "    \"\"\"\n",
    "    Convert fractional shares to integer counts that sum to n (Largest Remainder Method).\n",
    "    \"\"\"\n",
    "    raw = [n * s for s in shares]\n",
    "    base = [int(x) for x in raw]\n",
    "    rem = n - sum(base)\n",
    "    order = sorted(range(len(shares)), key=lambda i: raw[i] - base[i], reverse=True)\n",
    "    for k in range(rem):\n",
    "        base[order[k]] += 1\n",
    "    return base\n",
    "\n",
    "def split_volumes_flexible(\n",
    "    volume_ids: List[int],\n",
    "    *,\n",
    "    seed: int = 45,\n",
    "    ratios: Tuple[float, float, float] = (0.70, 0.15, 0.15),\n",
    "    n_select: Optional[int] = None,\n",
    "    sample_frac: Optional[float] = None,\n",
    "    shuffle_before_split: bool = True,\n",
    ") -> Tuple[List[int], List[int], List[int], List[int]]:\n",
    "    \"\"\"\n",
    "    Split volume IDs into train/val/test with flexible sampling.\n",
    "\n",
    "    Parameters\n",
    "    ----------\n",
    "    volume_ids : list of int\n",
    "        All available volume IDs (e.g., patient IDs).\n",
    "    seed : int\n",
    "        Random seed for deterministic sampling/shuffling.\n",
    "    ratios : (float, float, float)\n",
    "        Train/val/test proportions. They will be normalized to sum to 1.0.\n",
    "    n_select : int or None\n",
    "        If provided, sample exactly this many volumes from `volume_ids` (without replacement)\n",
    "        before splitting. If None, use `sample_frac` or all volumes.\n",
    "    sample_frac : float or None\n",
    "        If provided (0 < frac <= 1), sample a fraction of `volume_ids` (rounded via largest\n",
    "        remainder) before splitting. Ignored if `n_select` is given. If None, use all volumes.\n",
    "    shuffle_before_split : bool\n",
    "        If True, shuffle the selected IDs before allocating to each split.\n",
    "\n",
    "    Returns\n",
    "    -------\n",
    "    train_ids, val_ids, test_ids, selected_ids : lists of int\n",
    "        Sorted IDs for each split, and the full list of selected IDs used for splitting.\n",
    "\n",
    "    Notes\n",
    "    -----\n",
    "    - Selection happens at the *volume level* (no leakage across splits).\n",
    "    - If both `n_select` and `sample_frac` are None, all volumes are used.\n",
    "    - If the dataset is small, some splits may be empty (counts can be 0).\n",
    "    \"\"\"\n",
    "    ids = list(volume_ids)\n",
    "    rng = random.Random(seed)\n",
    "\n",
    "    # ---- normalize ratios ----\n",
    "    r_tr, r_val, r_te = ratios\n",
    "    s = r_tr + r_val + r_te\n",
    "    r_tr, r_val, r_te = r_tr / s, r_val / s, r_te / s\n",
    "\n",
    "    # ---- choose how many to use ----\n",
    "    N = len(ids)\n",
    "    if n_select is not None:\n",
    "        if not (1 <= n_select <= N):\n",
    "            raise ValueError(f\"n_select must be in [1, {N}], got {n_select}\")\n",
    "        selected_ids = sorted(rng.sample(ids, n_select))\n",
    "    elif sample_frac is not None:\n",
    "        if not (0 < sample_frac <= 1.0):\n",
    "            raise ValueError(\"sample_frac must be in (0, 1].\")\n",
    "        k = max(1, int(round(N * sample_frac)))\n",
    "        selected_ids = sorted(rng.sample(ids, k))\n",
    "    else:\n",
    "        # use all volumes\n",
    "        selected_ids = sorted(ids)\n",
    "\n",
    "    # ---- optional shuffle before split ----\n",
    "    alloc = selected_ids[:]\n",
    "    if shuffle_before_split:\n",
    "        rng.shuffle(alloc)\n",
    "\n",
    "    # ---- compute split counts (largest remainder to avoid drift) ----\n",
    "    n_tr, n_val, n_te = _largest_remainder_counts(len(alloc), [r_tr, r_val, r_te])\n",
    "\n",
    "    train_ids = sorted(alloc[:n_tr])\n",
    "    val_ids   = sorted(alloc[n_tr:n_tr + n_val])\n",
    "    test_ids  = sorted(alloc[n_tr + n_val:])\n",
    "\n",
    "    assert len(train_ids) + len(val_ids) + len(test_ids) == len(selected_ids)\n",
    "    return train_ids, val_ids, test_ids, selected_ids\n"
   ]
  },
  {
   "cell_type": "code",
   "execution_count": 53,
   "metadata": {},
   "outputs": [
    {
     "data": {
      "text/plain": [
       "'\\n# B) Use the entire dataset with custom ratios (e.g., 80/10/10)\\ntrain_ids, val_ids, test_ids, used_ids = split_volumes_flexible(\\n    all_vol_ids, seed=45, ratios=(0.80, 0.10, 0.10)\\n)\\n\\n# C) Use 60% of all volumes, then split 7:2:1\\ntrain_ids, val_ids, test_ids, used_ids = split_volumes_flexible(\\n    all_vol_ids, seed=45, ratios=(0.7, 0.2, 0.1), sample_frac=0.60\\n)\\n'"
      ]
     },
     "execution_count": 53,
     "metadata": {},
     "output_type": "execute_result"
    }
   ],
   "source": [
    "# # DATA_DIR = \"./brats2020-training-data/BraTS2020_training_data/content/data\"\n",
    "# DATA_DIR = Path(\"./brats2020-training-data/BraTS2020_training_data/content/data/\").resolve()\n",
    "# H5_RE = re.compile(r\"^volume_(\\d+)_slice_(\\d+)\\.h5$\")\n",
    "\n",
    "# groups = group_by_volume(DATA_DIR)   # your existing function\n",
    "# all_vol_ids = list(groups.keys())\n",
    "\n",
    "# # A) Use exactly 50 patients (seed=45), ratios 70/15/15\n",
    "# train_ids, val_ids, test_ids, used_ids = split_volumes_flexible(\n",
    "#     all_vol_ids, seed=45, ratios=(0.70, 0.15, 0.15), n_select=25\n",
    "# )\n",
    "\n",
    "\n",
    "'''\n",
    "# B) Use the entire dataset with custom ratios (e.g., 80/10/10)\n",
    "train_ids, val_ids, test_ids, used_ids = split_volumes_flexible(\n",
    "    all_vol_ids, seed=45, ratios=(0.80, 0.10, 0.10)\n",
    ")\n",
    "\n",
    "# C) Use 60% of all volumes, then split 7:2:1\n",
    "train_ids, val_ids, test_ids, used_ids = split_volumes_flexible(\n",
    "    all_vol_ids, seed=45, ratios=(0.7, 0.2, 0.1), sample_frac=0.60\n",
    ")\n",
    "'''"
   ]
  },
  {
   "cell_type": "markdown",
   "metadata": {
    "deletable": false,
    "editable": false,
    "nbgrader": {
     "cell_type": "markdown",
     "checksum": "999f82c5e5b58cd0b7bf33c63a417caf",
     "grade": false,
     "grade_id": "cell-1d6ea64bca94a4ef",
     "locked": true,
     "schema_version": 3,
     "solution": false
    }
   },
   "source": [
    "### 1.1 Dataset"
   ]
  },
  {
   "cell_type": "code",
   "execution_count": 56,
   "metadata": {
    "deletable": false,
    "nbgrader": {
     "cell_type": "code",
     "checksum": "d888696a12a311e2b01ccfc16d7cd6a9",
     "grade": true,
     "grade_id": "cell-5593ecac89fb79b1",
     "locked": false,
     "points": 0,
     "schema_version": 3,
     "solution": true,
     "task": false
    }
   },
   "outputs": [],
   "source": [
    "def robust_norm(x: np.ndarray, lo_p=0.5, hi_p=99.5) -> np.ndarray:\n",
    "    lo, hi = np.percentile(x, [lo_p, hi_p])\n",
    "    x = np.clip(x, lo, hi)\n",
    "    denom = (hi - lo) if hi > lo else 1.0\n",
    "    return (x - lo) / denom\n",
    "\n",
    "def flatten_files(groups: Dict[int, List[Path]], ids: List[int]) -> List[Path]:\n",
    "    out = []\n",
    "    for vid in ids:\n",
    "        out.extend(groups[vid])\n",
    "    return sorted(out)\n",
    "\n",
    "def to_onehot3_from_labels(lbl: np.ndarray) -> np.ndarray:\n",
    "    \"\"\"labels in {0,1,2,4} or {0,1,2,3} -> one-hot (H,W,3).\"\"\"\n",
    "    # allow 0/1/2/3 or 0/1/2/4\n",
    "    oh = np.zeros(lbl.shape + (3,), dtype=np.float32)\n",
    "    oh[..., 0] = (lbl == 1)        # Necrosis / Non-enhancing\n",
    "    oh[..., 1] = (lbl == 2)        # Edema\n",
    "    oh[..., 2] = (lbl == 3) | (lbl == 4)  # Enhancing (merge 4->3)\n",
    "    return oh\n",
    "\n",
    "def to_label_from_onehot3(oh: np.ndarray, thr: float = 0.5) -> np.ndarray:\n",
    "    \"\"\"one-hot/prob (H,W,3) -> labels (H,W) in {0,1,2,3}.\"\"\"\n",
    "    fg = (oh.max(axis=-1) > thr)\n",
    "    cls = np.argmax(oh, axis=-1) + 1  # 1/2/3\n",
    "    cls[~fg] = 0\n",
    "    return cls.astype(np.int64)\n",
    "\n",
    "class BrainTumorMRIData(Dataset):\n",
    "    \"\"\"\n",
    "    H5 file schema:\n",
    "      - 'image': (H, W, 4) -> [T1, T1ce, T2, FLAIR] (assumed order; set t1ce_idx accordingly)\n",
    "      - 'mask' : (H, W, 3) one-hot/prob   OR   (H, W) labels in {0,1,2,4}\n",
    "\n",
    "    Returns\n",
    "    -------\n",
    "    dict with:\n",
    "      image: FloatTensor (1, H, W)  # T1ce only\n",
    "      mask : LongTensor  (H, W)     # 0/1/2/3  (or FloatTensor (3,H,W) if return_onehot=True)\n",
    "      path : str\n",
    "    \"\"\"\n",
    "    def __init__(\n",
    "        self,\n",
    "        files: Sequence[Path | str],\n",
    "        t1ce_idx: int = 1,\n",
    "        return_onehot: bool = False,\n",
    "        intensity_norm: bool = True,\n",
    "        joint_transform: Optional[Callable[[Dict[str, Any]], Dict[str, Any]]] = None,\n",
    "        img_transform: Optional[Callable[[torch.Tensor], torch.Tensor]] = None,\n",
    "        mask_transform: Optional[Callable[[torch.Tensor], torch.Tensor]] = None,\n",
    "        image_dtype: torch.dtype = torch.float32,\n",
    "        mask_dtype_onehot: torch.dtype = torch.float32,\n",
    "    ):\n",
    "        self.files = [Path(f) for f in files]\n",
    "        self.t1ce_idx = t1ce_idx\n",
    "        self.return_onehot = return_onehot\n",
    "        self.intensity_norm = intensity_norm\n",
    "        self.joint_transform = joint_transform\n",
    "        self.img_transform = img_transform\n",
    "        self.mask_transform = mask_transform\n",
    "        self.image_dtype = image_dtype\n",
    "        self.mask_dtype_onehot = mask_dtype_onehot\n",
    "\n",
    "    def __len__(self) -> int:\n",
    "        return len(self.files)\n",
    "\n",
    "    def _load_h5(self, p: Path) -> tuple[np.ndarray, np.ndarray]:\n",
    "        with h5py.File(p, \"r\") as f:\n",
    "            image = f[\"image\"][:]   # (H,W,4)\n",
    "            mask  = f[\"mask\"][:]    # (H,W,3) or (H,W)\n",
    "        return image, mask\n",
    "\n",
    "    def _prepare_xy(self, image: np.ndarray, mask: np.ndarray) -> tuple[np.ndarray, np.ndarray]:\n",
    "        x = image[..., self.t1ce_idx]               # (H,W)\n",
    "        if self.intensity_norm:\n",
    "            x = robust_norm(x)\n",
    "\n",
    "        # mask -> onehot (H,W,3)\n",
    "        if mask.ndim == 2:\n",
    "            # labels could be 0/1/2/4; convert\n",
    "            mask_oh = to_onehot3_from_labels(mask)\n",
    "        else:\n",
    "            mask_oh = mask.astype(np.float32)\n",
    "\n",
    "        if self.return_onehot:\n",
    "            y = mask_oh.transpose(2, 0, 1)         # (3,H,W)\n",
    "        else:\n",
    "            y_lbl = to_label_from_onehot3(mask_oh) # (H,W)\n",
    "            y = y_lbl\n",
    "        return x, y\n",
    "\n",
    "    def __getitem__(self, index: int) -> Dict[str, Any]:\n",
    "        path = self.files[index]\n",
    "        image, mask = self._load_h5(path)\n",
    "        x, y = self._prepare_xy(image, mask)        # x: (H,W), y: (H,W) or (3,H,W)\n",
    "\n",
    "        # ---- convert to tensor before/after transforms depending on your pipeline ----\n",
    "        # For Albumentations joint_transform, keep numpy -> pass {\"image\": x, \"mask\": y}\n",
    "        if self.joint_transform is not None:\n",
    "            # Albumentations expects (H,W) for single channel & (H,W) or (H,W,C) for mask\n",
    "            sample = {\"image\": x, \"mask\": y}\n",
    "            out = self.joint_transform(**sample) if hasattr(self.joint_transform, \"__call__\") else self.joint_transform(sample)\n",
    "            x, y = out[\"image\"], out[\"mask\"]\n",
    "\n",
    "        # to tensors\n",
    "        x_t = torch.from_numpy(x).unsqueeze(0).to(self.image_dtype)  # (1,H,W)\n",
    "        if self.return_onehot:\n",
    "            y_t = torch.from_numpy(y).to(self.mask_dtype_onehot)     # (3,H,W)\n",
    "        else:\n",
    "            y_t = torch.from_numpy(y).long()                          # (H,W)\n",
    "\n",
    "        # per-modality transforms (torchvision, etc.)\n",
    "        if self.img_transform is not None:\n",
    "            x_t = self.img_transform(x_t)\n",
    "        if self.mask_transform is not None:\n",
    "            y_t = self.mask_transform(y_t)\n",
    "\n",
    "        return {\"image\": x_t, \"mask\": y_t, \"path\": str(path)}\n",
    "\n",
    "    def __repr__(self) -> str:\n",
    "        return (f\"{self.__class__.__name__}(n={len(self)}, t1ce_idx={self.t1ce_idx}, \"\n",
    "                f\"return_onehot={self.return_onehot}, intensity_norm={self.intensity_norm})\")\n"
   ]
  },
  {
   "cell_type": "code",
   "execution_count": null,
   "metadata": {},
   "outputs": [],
   "source": [
    "# 同步空间增强（对 image/mask 同时作用）\n",
    "joint_tf = A.Compose([\n",
    "    A.PadIfNeeded(args.crop, args.crop, border_mode=0, pad_val=0, pad_val_mask=0),\n",
    "    A.RandomCrop(240, 240),\n",
    "    A.HorizontalFlip(p=0.5),\n",
    "    A.VerticalFlip(p=0.2),\n",
    "    A.RandomRotate90(p=0.5),\n",
    "], additional_targets={})  # mask 自动处理\n",
    "\n",
    "# 图像独立变换（若 joint_tf 已输出 numpy，可省略或加噪声等）\n",
    "img_tf = None\n",
    "mask_tf = None\n",
    "\n",
    "# 构建分割数据集\n",
    "# DATA_DIR = \"./brats2020-training-data/BraTS2020_training_data/content/data\"\n",
    "DATA_DIR = Path(\"./brats2020-training-data/BraTS2020_training_data/content/data/\").resolve()\n",
    "H5_RE = re.compile(r\"^volume_(\\d+)_slice_(\\d+)\\.h5$\")\n",
    "\n",
    "\n",
    "groups = group_by_volume(DATA_DIR)   # your existing function\n",
    "all_vol_ids = list(groups.keys())\n",
    "\n",
    "# A) Use exactly 50 patients (seed=45), ratios 70/15/15\n",
    "train_ids, val_ids, test_ids, used_ids = split_volumes_flexible(\n",
    "    all_vol_ids, seed=45, ratios=(0.70, 0.15, 0.15), n_select=25\n",
    ")\n",
    "\n",
    "train_files = flatten_files(groups, train_ids)\n",
    "val_files   = flatten_files(groups, val_ids)\n",
    "\n",
    "train_ds = BrainTumorMRIData(\n",
    "    train_files, t1ce_idx=1, return_onehot=False,\n",
    "    joint_transform=joint_tf, img_transform=img_tf, mask_transform=mask_tf\n",
    ")\n",
    "val_ds = BrainTumorMRIData(\n",
    "    val_files, t1ce_idx=1, return_onehot=False,\n",
    "    joint_transform=None\n",
    ")\n",
    "\n",
    "train_loader = DataLoader(train_ds, batch_size=8, shuffle=True, num_workers=4, pin_memory=True)\n",
    "val_loader   = DataLoader(val_ds, batch_size=8, shuffle=False, num_workers=4, pin_memory=True)\n"
   ]
  },
  {
   "cell_type": "markdown",
   "metadata": {},
   "source": [
    "### 1.2 Preprocessing \n",
    "The `DogsCatsData` class constructor has an argument called `transform`. It allows us to transform or preprocess all the images in a batch, from the raw image data to a more suitable format. There are multiple motivations for preprocessing:\n",
    "\n",
    "- Some transformations might be needed to actually make the data work with our network (reshaping, permuting dimensions et c.).\n",
    "- Make the training more efficient by making the input dimensions smaller, e.g. resizing, cropping.\n",
    "- Artificially expanding the training data through [data augmentation](https://cartesianfaith.com/2016/10/06/what-you-need-to-know-about-data-augmentation-for-machine-learning/)\n",
    "- We have some clever idea of how to change the data to create a simpler optimisation problem.\n",
    "\n",
    "We do not expect you to do data augmentation, but feel free to preprocess the data as you see fit. Use the [documentation](https://pytorch.org/vision/stable/transforms.html#torchvision-transforms) to view available transforms. Extra important is the `Compose` transformation, which is a meta-transformation which composes actual ones, and the `ToTensor` transformation which is the simplest way to go from image to tensor format.\n",
    "\n",
    "\n",
    "Hints:\n",
    "- Revisit the `DogsCatsData` example usage to see how to use the `Compose` and `ToTensor` transformations.\n",
    "- When feeding the images to your CNN, you'll probably want all of them to have the same spatial size, even though the .jpeg files differ in this. Resizing the images can be done using the previously mentioned Pytorch Transforms.\n",
    "- Resizing the images to a smaller size while loading them can be beneficial as it speeds up training. The CNN's do surprisingly well on 64x64 images. Shorter training cycles give you more time to experiment! **Note**: The MobileNetV2 network used later in this assignment is specialised for images that are 224x224.\n",
    "\n",
    "We encourage you to explore the data and choose transformations that you believe to be useful. For exploration we provide you with a helper function to visually compare transformations side by side:"
   ]
  },
  {
   "cell_type": "code",
   "execution_count": null,
   "metadata": {
    "deletable": false,
    "editable": false,
    "nbgrader": {
     "cell_type": "code",
     "checksum": "7a05c7aa4bbeb47d9a082472a67be3cd",
     "grade": false,
     "grade_id": "cell-5ca8fc808d4ee65b",
     "locked": true,
     "schema_version": 3,
     "solution": false,
     "task": false
    }
   },
   "outputs": [],
   "source": [
    "def compare_transforms(transformations, index):\n",
    "    \"\"\"Visually compare transformations side by side.\n",
    "    Takes a list of DogsCatsData datasets with different compositions of transformations.\n",
    "    It then display the `index`th image of the dataset for each transformed dataset in the list.\n",
    "\n",
    "    Example usage:\n",
    "        compare_transforms([dataset_with_transform_1, dataset_with_transform_2], 0)\n",
    "\n",
    "    Args:\n",
    "        transformations (list(DogsCatsData)): list of dataset instances with different transformations\n",
    "        index (int): Index of the sample in the dataset you wish to compare.\n",
    "    \"\"\"\n",
    "\n",
    "    # Here we combine two functions from basic python to validate the input to the function:\n",
    "    # - `all` takes an iterable (something we can loop over, e.g. a list) of booleans\n",
    "    #    and returns True if every element is True, otherwise it returns False.\n",
    "    # - `isinstance` checks whether a variable is an instance of a particular type (class)\n",
    "    if not all(isinstance(transf, Dataset) for transf in transformations):\n",
    "        raise TypeError(\n",
    "            \"All elements in the `transformations` list need to be of type Dataset\"\n",
    "        )\n",
    "\n",
    "    num_transformations = len(transformations)\n",
    "    fig, axes = plt.subplots(1, num_transformations)\n",
    "\n",
    "    # This is just a hack to make sure that `axes` is a list of the same length as `transformations`.\n",
    "    # If we only have one element in the list, `plt.subplots` will not create a list of a single axis\n",
    "    # but rather just an axis without a list.\n",
    "    if num_transformations == 1:\n",
    "        axes = [axes]\n",
    "\n",
    "    for counter, (axis, transf) in enumerate(zip(axes, transformations)):\n",
    "        axis.set_title(f\"transf: {counter}\")\n",
    "        image_tensor = transf[index][0]\n",
    "        display_image(axis, image_tensor)\n",
    "\n",
    "    plt.show()"
   ]
  },
  {
   "cell_type": "code",
   "execution_count": null,
   "metadata": {
    "deletable": false,
    "nbgrader": {
     "cell_type": "code",
     "checksum": "24eb8245276590d831852e9ed925f1ae",
     "grade": true,
     "grade_id": "cell-31b81f052b6e681e",
     "locked": false,
     "points": 0,
     "schema_version": 3,
     "solution": true,
     "task": false
    }
   },
   "outputs": [],
   "source": [
    "# Explore your dataset in this cell, you do not need to produce any results.\n",
    "img_size = None\n",
    "train_dataset = None\n",
    "\n",
    "# YOUR CODE HERE\n",
    "from torchvision.transforms import v2\n",
    "\n",
    "test_index = 10\n",
    "# 64*64 224*224\n",
    "resize_size = 64 # 224 \n",
    "img_size = resize_size\n",
    "\n",
    "# 1\n",
    "# transform_1 = v2.Compose([v2.Resize(resize_size,resize_size),\n",
    "#                           v2.ToTensor()]) # v2.ToTensor() = ToImage() + ToDtype(torch.float32, scale=True)\n",
    "transform_1 = v2.Compose([\n",
    "    v2.Resize(resize_size, antialias=True), \n",
    "    v2.CenterCrop((resize_size, resize_size)),# RandomCrop/PadToSquare\n",
    "    v2.ToImage(),\n",
    "    v2.ToDtype(torch.float32, scale=True)\n",
    "])\n",
    "dataset_with_transform_1 = DogsCatsData(small_train_path, transform_1)\n",
    "\n",
    "# 2 \n",
    "# calculate the mean and std in train_dataset\n",
    "small_train_loader = torch.utils.data.DataLoader(dataset_with_transform_1, batch_size=32, shuffle=False)\n",
    "mean = 0.\n",
    "std = 0.\n",
    "nb_samples = 0.\n",
    "for data, _ in small_train_loader:\n",
    "    batch_samples = data.size(0) # data: [B, C, H, W]\n",
    "    data = data.view(batch_samples, data.size(1), -1)\n",
    "    mean += data.mean(2).sum(0)\n",
    "    std += data.std(2).sum(0)\n",
    "    nb_samples += batch_samples\n",
    "mean /= nb_samples\n",
    "std /= nb_samples\n",
    "print(\"mean:\", mean)\n",
    "print(\"std:\", std)\n",
    "transform_2 = v2.Compose([\n",
    "    v2.Resize(resize_size, antialias=True),\n",
    "    v2.RandomCrop((resize_size, resize_size)),# CenterCrop/RandomCrop/PadToSquare\n",
    "    v2.RandomHorizontalFlip(p=0.5),\n",
    "    v2.ToImage(),\n",
    "    v2.ToDtype(torch.float32, scale=True),\n",
    "    v2.Normalize(mean=mean, std=std)\n",
    "])\n",
    "\n",
    "dataset_with_transform_2 = DogsCatsData(small_train_path, transform_2)\n",
    "\n",
    "\n",
    "# 3\n",
    "transform_3 = v2.Compose([\n",
    "    v2.Resize(resize_size, antialias=True),\n",
    "    v2.RandomCrop((resize_size, resize_size)),# CenterCrop/RandomCrop/PadToSquare\n",
    "    v2.RandomHorizontalFlip(p=0.5),\n",
    "    v2.AutoAugment(\n",
    "    policy=v2.AutoAugmentPolicy.IMAGENET,                    # or CIFAR10 / SVHN\n",
    "    interpolation=v2.InterpolationMode.BILINEAR,\n",
    "    fill=0),                                                  # fill value for the area outside the transform in the input image\n",
    "    v2.ToImage(),\n",
    "    v2.ToDtype(torch.float32, scale=True),\n",
    "    v2.Normalize(mean=mean, std=std)\n",
    "])\n",
    "\n",
    "dataset_with_transform_3 = DogsCatsData(small_train_path, transform_3)\n",
    " \n",
    "compare_transforms([dataset_with_transform_1, dataset_with_transform_2, dataset_with_transform_3], test_index)"
   ]
  },
  {
   "cell_type": "markdown",
   "metadata": {
    "deletable": false,
    "editable": false,
    "nbgrader": {
     "cell_type": "markdown",
     "checksum": "151f29fc2a8afbe17168de48ca26651b",
     "grade": false,
     "grade_id": "cell-5553a56f43c9298a",
     "locked": true,
     "schema_version": 3,
     "solution": false,
     "task": false
    }
   },
   "source": [
    "### 1.3 Data loaders\n",
    "Creating a `DataLoader` instance:"
   ]
  },
  {
   "cell_type": "code",
   "execution_count": null,
   "metadata": {
    "deletable": false,
    "nbgrader": {
     "cell_type": "code",
     "checksum": "e1914339da1f7b0f5feaa13e42fd4199",
     "grade": true,
     "grade_id": "cell-051ee24a83af3cf8",
     "locked": false,
     "points": 1,
     "schema_version": 3,
     "solution": true,
     "task": false
    }
   },
   "outputs": [],
   "source": []
  },
  {
   "cell_type": "markdown",
   "metadata": {
    "deletable": false,
    "editable": false,
    "nbgrader": {
     "cell_type": "markdown",
     "checksum": "b19dfafec8d489d86d02a0d426550da9",
     "grade": false,
     "grade_id": "cell-c0bfc1ac7fadfcc7",
     "locked": true,
     "schema_version": 3,
     "solution": false
    }
   },
   "source": [
    "---\n",
    "## 2. Training\n",
    "\n",
    "### 2.1 Baseline: Encoder–Decoder GAN"
   ]
  },
  {
   "cell_type": "code",
   "execution_count": null,
   "metadata": {
    "deletable": false,
    "nbgrader": {
     "cell_type": "code",
     "checksum": "aacd59180381508d5267f7d4605798df",
     "grade": true,
     "grade_id": "cell-4c9de348cd8bc4ff",
     "locked": false,
     "points": 3,
     "schema_version": 3,
     "solution": true,
     "task": false
    }
   },
   "outputs": [],
   "source": [
    "\n",
    "class EncoderDecoderGAN(nn.Module):\n",
    "    def __init__(self, img_size: int):\n",
    "        super().__init__()\n",
    "        pass\n",
    "\n",
    "    def forward(self, x: torch.Tensor) -> torch.Tensor:\n",
    "        pass"
   ]
  },
  {
   "cell_type": "markdown",
   "metadata": {
    "deletable": false,
    "editable": false,
    "nbgrader": {
     "cell_type": "markdown",
     "checksum": "a6b258d85371b526a1ad766ed303e8bd",
     "grade": false,
     "grade_id": "cell-cb6fc78116ad6b75",
     "locked": true,
     "schema_version": 3,
     "solution": false
    }
   },
   "source": [
    "### 2.2 The training loop"
   ]
  },
  {
   "cell_type": "code",
   "execution_count": null,
   "metadata": {
    "deletable": false,
    "nbgrader": {
     "cell_type": "code",
     "checksum": "bc4107d4c57a00eb32e6b6ba686f143c",
     "grade": true,
     "grade_id": "cell-4b4d93eec45833cf",
     "locked": false,
     "points": 2,
     "schema_version": 3,
     "solution": true,
     "task": false
    }
   },
   "outputs": [],
   "source": [
    "def output_to_label(z):\n",
    "    pass"
   ]
  },
  {
   "cell_type": "code",
   "execution_count": 108,
   "metadata": {
    "deletable": false,
    "editable": false,
    "nbgrader": {
     "cell_type": "code",
     "checksum": "76004f3c9d404a6ab6d764353a927a6e",
     "grade": false,
     "grade_id": "cell-8a973f2f470ca603",
     "locked": true,
     "schema_version": 3,
     "solution": false,
     "task": false
    }
   },
   "outputs": [],
   "source": [
    "def training_loop(\n",
    "    model, optimizer, loss_fn, train_loader, val_loader, num_epochs, print_every\n",
    "):\n",
    "    print(\"Starting training\")\n",
    "    device = torch.device(\"cuda\" if torch.cuda.is_available() else \"cpu\")\n",
    "    model.to(device)\n",
    "    train_losses, train_accs, val_losses, val_accs = [], [], [], []\n",
    "\n",
    "    for epoch in range(1, num_epochs + 1):\n",
    "        model, train_loss, train_acc = train_epoch(\n",
    "            model, optimizer, loss_fn, train_loader, val_loader, device, print_every\n",
    "        )\n",
    "        val_loss, val_acc = validate(model, loss_fn, val_loader, device)\n",
    "        print(\n",
    "            f\"Epoch {epoch}/{num_epochs}: \"\n",
    "            f\"Train loss: {sum(train_loss)/len(train_loss):.3f}, \"\n",
    "            f\"Train acc.: {sum(train_acc)/len(train_acc):.3f}, \"\n",
    "            f\"Val. loss: {val_loss:.3f}, \"\n",
    "            f\"Val. acc.: {val_acc:.3f}\"\n",
    "        )\n",
    "        train_losses.extend(train_loss)\n",
    "        train_accs.extend(train_acc)\n",
    "        val_losses.append(val_loss)\n",
    "        val_accs.append(val_acc)\n",
    "    return model, train_losses, train_accs, val_losses, val_accs\n",
    "\n",
    "\n",
    "def train_epoch(\n",
    "    model, optimizer, loss_fn, train_loader, val_loader, device, print_every\n",
    "):\n",
    "    # Train:\n",
    "    model.train()\n",
    "    train_loss_batches, train_acc_batches = [], []\n",
    "    num_batches = len(train_loader)\n",
    "    for batch_index, (x, y) in enumerate(train_loader, 1):\n",
    "        inputs, labels = x.to(device), y.to(device)\n",
    "        optimizer.zero_grad()\n",
    "        z = model.forward(inputs)\n",
    "        loss = loss_fn(z, labels.float())\n",
    "        loss.backward()\n",
    "        optimizer.step()\n",
    "        train_loss_batches.append(loss.item())\n",
    "\n",
    "        hard_preds = output_to_label(z)\n",
    "        acc_batch_avg = (hard_preds == labels).float().mean().item()\n",
    "        train_acc_batches.append(acc_batch_avg)\n",
    "\n",
    "        # If you want to print your progress more often than every epoch you can\n",
    "        # set `print_every` to the number of batches you want between every status update.\n",
    "        # Note that the print out will trigger a full validation on the full val. set => slows down training\n",
    "        if print_every is not None and batch_index % print_every == 0:\n",
    "            val_loss, val_acc = validate(model, loss_fn, val_loader, device)\n",
    "            model.train()\n",
    "            print(\n",
    "                f\"\\tBatch {batch_index}/{num_batches}: \"\n",
    "                f\"\\tTrain loss: {sum(train_loss_batches[-print_every:])/print_every:.3f}, \"\n",
    "                f\"\\tTrain acc.: {sum(train_acc_batches[-print_every:])/print_every:.3f}, \"\n",
    "                f\"\\tVal. loss: {val_loss:.3f}, \"\n",
    "                f\"\\tVal. acc.: {val_acc:.3f}\"\n",
    "            )\n",
    "\n",
    "    return model, train_loss_batches, train_acc_batches\n",
    "\n",
    "\n",
    "def validate(model, loss_fn, val_loader, device):\n",
    "    val_loss_cum = 0\n",
    "    val_acc_cum = 0\n",
    "    model.eval()\n",
    "    with torch.no_grad():\n",
    "        for batch_index, (x, y) in enumerate(val_loader, 1):\n",
    "            inputs, labels = x.to(device), y.to(device)\n",
    "            z = model.forward(inputs)\n",
    "\n",
    "            batch_loss = loss_fn(z, labels.float())\n",
    "            val_loss_cum += batch_loss.item()\n",
    "            hard_preds = output_to_label(z)\n",
    "            acc_batch_avg = (hard_preds == labels).float().mean().item()\n",
    "            val_acc_cum += acc_batch_avg\n",
    "    return val_loss_cum / len(val_loader), val_acc_cum / len(val_loader)"
   ]
  },
  {
   "cell_type": "code",
   "execution_count": null,
   "metadata": {
    "deletable": false,
    "nbgrader": {
     "cell_type": "code",
     "checksum": "c2f000acd2231fc932824882953662b9",
     "grade": true,
     "grade_id": "cell-0b7b0d0139ba368a",
     "locked": false,
     "points": 1,
     "schema_version": 3,
     "solution": true,
     "task": false
    }
   },
   "outputs": [],
   "source": [
    "# Train your model in this cell, you do not need to produce any results.\n",
    "\n",
    "\n",
    "\n",
    "\n",
    "\n",
    "# Save model\n",
    "torch.save(\n",
    "    {\n",
    "        \"model_state_dict\": first_model.state_dict(),\n",
    "        \"train_losses\": first_train_losses,\n",
    "        \"train_accs\": first_train_accs,\n",
    "        \"val_losses\": first_val_losses,\n",
    "        \"val_accs\": first_val_accs,\n",
    "    },\n",
    "    \"./first_model.ckpt\",\n",
    ")\n"
   ]
  },
  {
   "cell_type": "markdown",
   "metadata": {
    "deletable": false,
    "editable": false,
    "nbgrader": {
     "cell_type": "markdown",
     "checksum": "0cc14c29ae486c4d958b356f68a0ba1b",
     "grade": false,
     "grade_id": "cell-4d42c86687697a67",
     "locked": true,
     "schema_version": 3,
     "solution": false
    }
   },
   "source": [
    "### 2.3 Visualisation\n",
    "\n",
    "Create two plots. In one of them, plot the loss in the training and the validation datasets. In the other one, plot the accuracy in the training and validation datasets.\n",
    "Note that the given training loop produces metrics at different intervals for training and validation, make sure that you align your metrics in a way that makes sense.\n",
    "\n",
    "**Note also:** this kind of visualization will have to be done more times in this notebook. We advise you to write a function that does the plotting and re-use it later."
   ]
  },
  {
   "cell_type": "code",
   "execution_count": null,
   "metadata": {
    "deletable": false,
    "nbgrader": {
     "cell_type": "code",
     "checksum": "9f6d6f92390994507b50e9128673a9ad",
     "grade": true,
     "grade_id": "cell-fa81712e1e27432a",
     "locked": false,
     "points": 1,
     "schema_version": 3,
     "solution": true
    }
   },
   "outputs": [],
   "source": []
  },
  {
   "cell_type": "markdown",
   "metadata": {
    "deletable": false,
    "editable": false,
    "nbgrader": {
     "cell_type": "markdown",
     "checksum": "afa8e2c066a79d25a5ad58e8095cbfac",
     "grade": false,
     "grade_id": "cell-ee79a83a62b70a8f",
     "locked": true,
     "schema_version": 3,
     "solution": false
    }
   },
   "source": [
    "---\n",
    "## 3. Target: U-Net"
   ]
  },
  {
   "cell_type": "code",
   "execution_count": null,
   "metadata": {
    "deletable": false,
    "nbgrader": {
     "cell_type": "code",
     "checksum": "85c1e00c14569b06324d5bbab5c3edea",
     "grade": true,
     "grade_id": "cell-6edb7d7e343ab14b",
     "locked": false,
     "points": 3,
     "schema_version": 3,
     "solution": true
    }
   },
   "outputs": [],
   "source": [
    "\n",
    "class UNetBase(nn.Module):\n",
    "    def __init__(self, in_ch, out_ch, stride=1):\n",
    "        super().__init__()\n",
    "        pass\n",
    "\n",
    "    def forward(self, x):\n",
    "        pass"
   ]
  },
  {
   "cell_type": "code",
   "execution_count": null,
   "metadata": {},
   "outputs": [],
   "source": [
    "# Train the model\n",
    "\n",
    "# Save the model\n",
    "torch.save(\n",
    "    {\n",
    "        \"model_state_dict\": impr_model.state_dict(),\n",
    "        \"train_losses\": impr_train_losses,\n",
    "        \"train_accs\": impr_train_accs,\n",
    "        \"val_losses\": impr_val_losses,\n",
    "        \"val_accs\": impr_val_accs,\n",
    "    },\n",
    "    \"./improved_model.ckpt\",\n",
    ")"
   ]
  },
  {
   "cell_type": "markdown",
   "metadata": {
    "deletable": false,
    "editable": false,
    "nbgrader": {
     "cell_type": "markdown",
     "checksum": "ba6a43ffd69fce436811d9311aedcede",
     "grade": false,
     "grade_id": "cell-d033937b5a8b9875",
     "locked": true,
     "schema_version": 3,
     "solution": false
    }
   },
   "source": [
    "Create two plots. In one of them, plot the loss in the training and the validation datasets. In the other one, plot the accuracy in the training and validation datasets."
   ]
  },
  {
   "cell_type": "code",
   "execution_count": null,
   "metadata": {
    "deletable": false,
    "nbgrader": {
     "cell_type": "code",
     "checksum": "88f944698dc9dc353e1933fe16b6de87",
     "grade": true,
     "grade_id": "cell-3df999674672de47",
     "locked": false,
     "points": 0,
     "schema_version": 3,
     "solution": true
    }
   },
   "outputs": [],
   "source": []
  },
  {
   "cell_type": "code",
   "execution_count": null,
   "metadata": {
    "deletable": false,
    "nbgrader": {
     "cell_type": "code",
     "checksum": "bb47a5e3ba54123363f0b15d9df6792c",
     "grade": true,
     "grade_id": "cell-4da6b3b63e3305f0",
     "locked": false,
     "points": 1,
     "schema_version": 3,
     "solution": true,
     "task": false
    }
   },
   "outputs": [],
   "source": []
  },
  {
   "cell_type": "markdown",
   "metadata": {
    "deletable": false,
    "editable": false,
    "nbgrader": {
     "cell_type": "markdown",
     "checksum": "e6648c8efa74adb828b4413fe6f250f1",
     "grade": false,
     "grade_id": "cell-c67bcc4fbec1808e",
     "locked": true,
     "schema_version": 3,
     "solution": false
    }
   },
   "source": [
    "Save your model to disk."
   ]
  },
  {
   "cell_type": "markdown",
   "metadata": {
    "deletable": false,
    "editable": false,
    "nbgrader": {
     "cell_type": "markdown",
     "checksum": "ceb570afa39d746b3b5f132ecb5bc72e",
     "grade": false,
     "grade_id": "cell-25f9cc8d17491d0d",
     "locked": true,
     "schema_version": 3,
     "solution": false
    }
   },
   "source": [
    "---\n",
    "## 4. Transfer Learning"
   ]
  },
  {
   "cell_type": "code",
   "execution_count": null,
   "metadata": {},
   "outputs": [],
   "source": [
    "from torchvision import models\n",
    "\n",
    "base_model = models.mobilenet_v2(weights=models.MobileNet_V2_Weights.IMAGENET1K_V1)\n",
    "\n",
    "print(base_model.classifier)"
   ]
  },
  {
   "cell_type": "markdown",
   "metadata": {
    "deletable": false,
    "editable": false,
    "nbgrader": {
     "cell_type": "markdown",
     "checksum": "7329a7c706816f06bd79fd497d327c08",
     "grade": false,
     "grade_id": "cell-faed8047ef25a60d",
     "locked": true,
     "schema_version": 3,
     "solution": false
    }
   },
   "source": [
    "Create a new model named `head` as a so-called head network to the base model.\n",
    "MobileNetV2 is quite a deep network so think about what would be a reasonable model head for transfer learning.\n",
    "\n",
    "*Hint:*\n",
    "- You can access and modify the top layers of the MobileNetV2 model with `base_model.classifier`, and the remaining layers with `base_model.features`.\n",
    "- You can get the number of output features of `base_model.features` with `base_model.classifier[1].in_features`"
   ]
  },
  {
   "cell_type": "code",
   "execution_count": 125,
   "metadata": {
    "deletable": false,
    "nbgrader": {
     "cell_type": "code",
     "checksum": "9fb6fd445749f00ddec3fb1e99db5775",
     "grade": true,
     "grade_id": "cell-56cb37360051a638",
     "locked": false,
     "points": 1,
     "schema_version": 3,
     "solution": true,
     "task": false
    }
   },
   "outputs": [],
   "source": [
    "head = None\n",
    "\n",
    "# YOUR CODE HERE\n",
    "import torch\n",
    "import torch.nn as nn\n",
    "from torchvision import transforms\n",
    "\n",
    "in_features = base_model.classifier[1].in_features  # 1280\n",
    "\n",
    "head = nn.Sequential(\n",
    "    nn.Dropout(0.2),\n",
    "    nn.Linear(in_features, 1),\n",
    "    nn.Sigmoid()\n",
    ")"
   ]
  },
  {
   "cell_type": "markdown",
   "metadata": {
    "deletable": false,
    "editable": false,
    "nbgrader": {
     "cell_type": "markdown",
     "checksum": "d67b7dae88456c55d80b87db9903f4cd",
     "grade": false,
     "grade_id": "cell-d746f9eb61e3ea44",
     "locked": true,
     "schema_version": 3,
     "solution": false
    }
   },
   "source": [
    "Now add the new model on top of the base model. Your full model should be stored in the `TL_model` variable."
   ]
  },
  {
   "cell_type": "code",
   "execution_count": null,
   "metadata": {
    "deletable": false,
    "nbgrader": {
     "cell_type": "code",
     "checksum": "310d781c873939ff5e7f91cdb2fe6704",
     "grade": true,
     "grade_id": "cell-76e4aad7fbcf5d05",
     "locked": false,
     "points": 2,
     "schema_version": 3,
     "solution": true,
     "task": false
    }
   },
   "outputs": [],
   "source": [
    "# YOUR CODE HERE\n",
    "class TLWrapper(nn.Module):\n",
    "    def __init__(self, backbone: models.MobileNetV2, head: nn.Module):\n",
    "        super().__init__()\n",
    "        pass\n",
    "    def forward(self, x):\n",
    "        pass\n",
    "\n",
    "    def freeze_backbone(self):\n",
    "        for p in self.features.parameters():\n",
    "            p.requires_grad = False\n",
    "\n",
    "    def unfreeze_backbone(self):\n",
    "        for p in self.features.parameters():\n",
    "            p.requires_grad = True\n",
    "\n",
    "### Update:\n",
    "# 直接使用 base_model.classifier = head 更新"
   ]
  },
  {
   "cell_type": "markdown",
   "metadata": {
    "deletable": false,
    "editable": false,
    "nbgrader": {
     "cell_type": "markdown",
     "checksum": "e2c16d2cf2c77e6bcd52d22d43d276a1",
     "grade": false,
     "grade_id": "cell-f76d1a7f6280af0d",
     "locked": true,
     "schema_version": 3,
     "solution": false
    }
   },
   "source": [
    "### 4.1 Using backbone features"
   ]
  },
  {
   "cell_type": "markdown",
   "metadata": {
    "deletable": false,
    "editable": false,
    "nbgrader": {
     "cell_type": "markdown",
     "checksum": "e4e6ed1b7e4a8e4a0f30cdf668b88cbc",
     "grade": false,
     "grade_id": "cell-270f8ec140ddfba3",
     "locked": true,
     "schema_version": 3,
     "solution": false
    }
   },
   "source": [
    "Now we're almost ready to train the new model. For transfer learning we want to freeze all but the top layers in your architecture (i.e. signal to the optimizer that the bottom layers should not be changed during optimization). We do that by setting the attribute `requires_grad` of every parameter in the feature sub-network of `TL_model` to `False`."
   ]
  },
  {
   "cell_type": "code",
   "execution_count": 131,
   "metadata": {
    "deletable": false,
    "nbgrader": {
     "cell_type": "code",
     "checksum": "b24251e487c289640f5c292bfa9d4231",
     "grade": true,
     "grade_id": "cell-bfb58ea46c31df0a",
     "locked": false,
     "points": 1,
     "schema_version": 3,
     "solution": true,
     "task": false
    }
   },
   "outputs": [],
   "source": [
    "# YOUR CODE HERE\n",
    "for p in TL_model.features.parameters():\n",
    "    p.requires_grad = False"
   ]
  },
  {
   "cell_type": "markdown",
   "metadata": {
    "deletable": false,
    "editable": false,
    "nbgrader": {
     "cell_type": "markdown",
     "checksum": "26e6b99c004f843053dbff35085e6ff2",
     "grade": false,
     "grade_id": "cell-ad32824e875c79cd",
     "locked": true,
     "schema_version": 3,
     "solution": false,
     "task": false
    }
   },
   "source": [
    "Prepare dataloaders for transfer learning. Don't forget that MobileNetV2 is specialised for images of a **certain size**."
   ]
  },
  {
   "cell_type": "code",
   "execution_count": null,
   "metadata": {
    "deletable": false,
    "nbgrader": {
     "cell_type": "code",
     "checksum": "cfa28282aa32cd81d0f8eaca1ea899a2",
     "grade": true,
     "grade_id": "cell-6e509c469c8a52af",
     "locked": false,
     "points": 1,
     "schema_version": 3,
     "solution": true,
     "task": false
    }
   },
   "outputs": [],
   "source": []
  },
  {
   "cell_type": "markdown",
   "metadata": {
    "deletable": false,
    "editable": false,
    "nbgrader": {
     "cell_type": "markdown",
     "checksum": "d306e1a138f63e8c8c5eb90707013c9e",
     "grade": false,
     "grade_id": "cell-b508ede3d760a86b",
     "locked": true,
     "schema_version": 3,
     "solution": false
    }
   },
   "source": [
    "Perform the transfer learning by training the top layers of your model."
   ]
  },
  {
   "cell_type": "code",
   "execution_count": null,
   "metadata": {
    "deletable": false,
    "nbgrader": {
     "cell_type": "code",
     "checksum": "92df0b1dc243a6d6c9d4fbbdfc325ed9",
     "grade": true,
     "grade_id": "cell-f50c3d451530b9a8",
     "locked": false,
     "points": 1,
     "schema_version": 3,
     "solution": true,
     "task": false
    }
   },
   "outputs": [],
   "source": [
    "# Train the model\n",
    "\n",
    "\n",
    "# Save the model\n",
    "torch.save(\n",
    "    {\n",
    "        \"model_state_dict\": TL_model.state_dict(),\n",
    "        \"train_losses\": tl_train_losses,\n",
    "        \"train_accs\": tl_train_accs,\n",
    "        \"val_losses\": tl_val_losses,\n",
    "        \"val_accs\": tl_val_accs,\n",
    "    },\n",
    "    \"./TL_model.ckpt\",\n",
    ")"
   ]
  },
  {
   "cell_type": "markdown",
   "metadata": {
    "deletable": false,
    "editable": false,
    "nbgrader": {
     "cell_type": "markdown",
     "checksum": "34bf11c4a55f184ccc7d589c841b0be2",
     "grade": false,
     "grade_id": "cell-ad79e1aa5c4a6185",
     "locked": true,
     "schema_version": 3,
     "solution": false
    }
   },
   "source": [
    "Create two plots. In one of them, plot the loss in the training and the validation datasets. In the other one, plot the accuracy in the training and validation datasets."
   ]
  },
  {
   "cell_type": "code",
   "execution_count": null,
   "metadata": {
    "deletable": false,
    "nbgrader": {
     "cell_type": "code",
     "checksum": "8c941425a83b8694e580f44586efac41",
     "grade": true,
     "grade_id": "cell-f17c882b2a09dee7",
     "locked": false,
     "points": 1,
     "schema_version": 3,
     "solution": true
    }
   },
   "outputs": [],
   "source": []
  },
  {
   "cell_type": "markdown",
   "metadata": {
    "deletable": false,
    "editable": false,
    "nbgrader": {
     "cell_type": "markdown",
     "checksum": "8c4634579a40b62a3db715b027fbd80a",
     "grade": false,
     "grade_id": "cell-779d477ffe1ebbf6",
     "locked": true,
     "schema_version": 3,
     "solution": false
    }
   },
   "source": [
    "How does the model perform, compared to the model obtained in step 3? Create one plot with the training accuracy and another with the validation accuracy of the two scenarios."
   ]
  },
  {
   "cell_type": "code",
   "execution_count": null,
   "metadata": {
    "deletable": false,
    "nbgrader": {
     "cell_type": "code",
     "checksum": "873c045fa2e6f22815a90194ed2785f3",
     "grade": true,
     "grade_id": "cell-e3e3990ba39bea67",
     "locked": false,
     "points": 0,
     "schema_version": 3,
     "solution": true
    }
   },
   "outputs": [],
   "source": [
    "# YOUR CODE HERE\n",
    "model1 = (\"impr_model\", impr_train_accs,  impr_val_accs)\n",
    "model2 = (\"TL_model\", tl_train_accs, tl_val_accs)\n",
    "model_compare(\n",
    "    models=[model1, model2],\n",
    "    steps_per_epoch=None,\n",
    "    smooth_k=2,            \n",
    "    title=\"Accuracy comparison\"\n",
    ")"
   ]
  },
  {
   "cell_type": "markdown",
   "metadata": {
    "deletable": false,
    "editable": false,
    "nbgrader": {
     "cell_type": "markdown",
     "checksum": "ab5bf17534c2ac6852d79e32793fdbf7",
     "grade": false,
     "grade_id": "cell-544a73726bebe121",
     "locked": true,
     "schema_version": 3,
     "solution": false
    }
   },
   "source": [
    "### 4.2 Fine-tuning"
   ]
  },
  {
   "cell_type": "markdown",
   "metadata": {
    "deletable": false,
    "editable": false,
    "nbgrader": {
     "cell_type": "markdown",
     "checksum": "d1f29eca7ed627d2e6661c55fca14a9d",
     "grade": false,
     "grade_id": "cell-1ee9ebc87fd3358e",
     "locked": true,
     "schema_version": 3,
     "solution": false
    }
   },
   "source": [
    "Now that we have a better starting point for the top layers, we can train the entire network. Unfreeze the bottom (backbone) layers of `TL_model` by resetting the `requires_grad` attribute to `True`."
   ]
  },
  {
   "cell_type": "code",
   "execution_count": 140,
   "metadata": {
    "deletable": false,
    "nbgrader": {
     "cell_type": "code",
     "checksum": "4b0054e10303716fdcbd286c57a19ece",
     "grade": true,
     "grade_id": "cell-3918c2cdd9817f7e",
     "locked": false,
     "points": 0,
     "schema_version": 3,
     "solution": true
    }
   },
   "outputs": [],
   "source": [
    "# YOUR CODE HERE\n",
    "# Unfreeze the whole backbone\n",
    "for p in TL_model.features.parameters():\n",
    "    p.requires_grad = True\n"
   ]
  },
  {
   "cell_type": "markdown",
   "metadata": {
    "deletable": false,
    "editable": false,
    "nbgrader": {
     "cell_type": "markdown",
     "checksum": "37018e0e49c752230061f0f9fbed700c",
     "grade": false,
     "grade_id": "cell-80fa8c89f1b262f1",
     "locked": true,
     "schema_version": 3,
     "solution": false
    }
   },
   "source": [
    "Fine tune the model by training all the layers."
   ]
  },
  {
   "cell_type": "code",
   "execution_count": null,
   "metadata": {
    "deletable": false,
    "nbgrader": {
     "cell_type": "code",
     "checksum": "302aaf646ccf4f66d32ab87e9013c385",
     "grade": true,
     "grade_id": "cell-594c6039216461e5",
     "locked": false,
     "points": 1,
     "schema_version": 3,
     "solution": true
    }
   },
   "outputs": [],
   "source": [
    "# Train model\n",
    "\n",
    "# Save model\n",
    "torch.save(\n",
    "    {\n",
    "        \"model_state_dict\": ft_model.state_dict(),\n",
    "        \"train_losses\": ft_train_losses,\n",
    "        \"train_accs\": ft_train_accs,\n",
    "        \"val_losses\": ft_val_losses,\n",
    "        \"val_accs\": ft_val_accs,\n",
    "    },\n",
    "    \"./ft_model.ckpt\",\n",
    ")"
   ]
  },
  {
   "cell_type": "markdown",
   "metadata": {
    "deletable": false,
    "editable": false,
    "nbgrader": {
     "cell_type": "markdown",
     "checksum": "de73952e2230136bd52c1c3b2c590896",
     "grade": false,
     "grade_id": "cell-5dc3e388a41da3ed",
     "locked": true,
     "schema_version": 3,
     "solution": false
    }
   },
   "source": [
    "How does the model perform, compared to the model trained with frozen layers? Create one plot with the training accuracy and another with the validation accuracy of the two scenarios."
   ]
  },
  {
   "cell_type": "code",
   "execution_count": null,
   "metadata": {
    "deletable": false,
    "nbgrader": {
     "cell_type": "code",
     "checksum": "b7b2e69e2ffc7f5bff07ba62225b4cee",
     "grade": true,
     "grade_id": "cell-7edb12ee397ec817",
     "locked": false,
     "points": 0,
     "schema_version": 3,
     "solution": true
    }
   },
   "outputs": [],
   "source": []
  },
  {
   "cell_type": "markdown",
   "metadata": {
    "deletable": false,
    "editable": false,
    "nbgrader": {
     "cell_type": "markdown",
     "checksum": "616d9047ba0c30d8343e48ecc58bd4d0",
     "grade": false,
     "grade_id": "cell-5e1ddfbfceb4d194",
     "locked": true,
     "schema_version": 3,
     "solution": false
    }
   },
   "source": [
    "## 5. Evaluation on test set"
   ]
  },
  {
   "cell_type": "code",
   "execution_count": null,
   "metadata": {
    "deletable": false,
    "nbgrader": {
     "cell_type": "code",
     "checksum": "2cef0b2ba7d64e75c2522cf3345ffd74",
     "grade": true,
     "grade_id": "cell-cc77ac7849f856e1",
     "locked": false,
     "points": 0,
     "schema_version": 3,
     "solution": true
    }
   },
   "outputs": [],
   "source": []
  }
 ],
 "metadata": {
  "kernelspec": {
   "display_name": "dml",
   "language": "python",
   "name": "python3"
  },
  "language_info": {
   "codemirror_mode": {
    "name": "ipython",
    "version": 3
   },
   "file_extension": ".py",
   "mimetype": "text/x-python",
   "name": "python",
   "nbconvert_exporter": "python",
   "pygments_lexer": "ipython3",
   "version": "3.11.6"
  },
  "toc": {
   "base_numbering": 1,
   "nav_menu": {},
   "number_sections": true,
   "sideBar": true,
   "skip_h1_title": false,
   "title_cell": "Table of Contents",
   "title_sidebar": "Contents",
   "toc_cell": false,
   "toc_position": {},
   "toc_section_display": true,
   "toc_window_display": false
  }
 },
 "nbformat": 4,
 "nbformat_minor": 4
}
